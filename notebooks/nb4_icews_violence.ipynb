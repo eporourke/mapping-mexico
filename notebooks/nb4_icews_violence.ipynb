{
 "cells": [
  {
   "cell_type": "markdown",
   "id": "61fd6afc",
   "metadata": {},
   "source": [
    "# Notebook 4: Creating a dataframe of violent events that don't involve cartels"
   ]
  },
  {
   "cell_type": "code",
   "execution_count": 1,
   "id": "3c7cdec6",
   "metadata": {},
   "outputs": [],
   "source": [
    "import pandas as pd\n",
    "import numpy as np\n",
    "import datetime\n",
    "#import geopandas as gp"
   ]
  },
  {
   "cell_type": "code",
   "execution_count": 2,
   "id": "94ea37a1",
   "metadata": {},
   "outputs": [],
   "source": [
    "#using full icews data set to screen for cartel events and make sure I'm not filtering anything out accidentally\n",
    "violence_df = pd.read_csv('../data/icews_main.csv', parse_dates=['event_date'],dtype={\n",
    "       'event_id':'int','intensity':'float','story_id':'int','sentence_number':'int'})"
   ]
  },
  {
   "cell_type": "code",
   "execution_count": 3,
   "id": "df433fb5",
   "metadata": {},
   "outputs": [],
   "source": [
    "Mex = ['Mexico']\n",
    "mex_violence = violence_df[violence_df.country.isin(Mex)]"
   ]
  },
  {
   "cell_type": "code",
   "execution_count": 4,
   "id": "648e5e1c",
   "metadata": {},
   "outputs": [],
   "source": [
    "mex_violence = mex_violence[mex_violence[\"cameo_code\"].isin([\n",
    "180,181,182,183,184,185,186,190,191,192,193,194,195,202,1822,1823])]"
   ]
  },
  {
   "cell_type": "code",
   "execution_count": 5,
   "id": "06ee70a7",
   "metadata": {},
   "outputs": [],
   "source": [
    "#standardize events involving cartels, consolidating cartel factions to\n",
    "#reflect umbrella organizations\n",
    "cartels = {\n",
    "    \"Armed Gang (Sinaloa Cartel)\": 'Sinaloa Cartel',\n",
    "    \"Armed Gang (Juárez Cartel)\":'Juárez Cartel',\n",
    "    \"Organized Crime (Gulf Cartel)\":'Gulf Cartel',\n",
    "    \"Armed Gang (Gulf Cartel)\":'Gulf Cartel',\n",
    "    \"Drug Gang (Los Zetas Cartel)\":'Los Zetas Cartel',\n",
    "    \"Hitman (Gulf Cartel)\":'Gulf Cartel',\n",
    "    \"Hitman (Los Zetas Cartel)\":'Los Zetas Cartel',\n",
    "    \"Criminal (Los Zetas Cartel)\":'Los Zetas Cartel',\n",
    "    \"Drug Gang (Gulf Cartel)\":'Gulf Cartel',\n",
    "    \"Armed Services Deserter (Los Zetas Cartel)\":'Los Zetas Cartel',\n",
    "    \"Armed Gang (Knights Templar Cartel)\":'Knights Templar Cartel',\n",
    "    \"La Familia Michoacana\": 'La Familia Michoacana Cartel',\n",
    "    \"Drug Gang (La Familia Michoacana)\": 'La Familia Michoacana Cartel',\n",
    "    \"La Línea\": 'Juárez Cartel',\n",
    "    \"Criminal (La Línea)\":'Juárez Cartel',\n",
    "    \"Barrio Azteca\": 'Barrio Azteca Drug Gang',\n",
    "    \"Gente Nueva\": \"Sinaloa Cartel\",\n",
    "    \"BeltrÃ¡n-Leyva Cartel\": \"Beltrán-Leyva Cartel\",\n",
    "    \"Los Negros\": \"Beltrán-Leyva Cartel\",\n",
    "    \"Mexicles\": \"Mexicles Drug Gang\"\n",
    "}\n",
    "violence = mex_violence.replace(cartels)"
   ]
  },
  {
   "cell_type": "code",
   "execution_count": 6,
   "id": "2a18a407",
   "metadata": {},
   "outputs": [],
   "source": [
    "not_cartel_source = violence.loc[~violence['source_name'].str.contains('Cartel')]\n",
    "not_cartel_target = violence.loc[~violence['target_name'].str.contains('Cartel')]\n",
    "not_drug_gang_source = violence.loc[~violence['source_name'].str.contains('Drug')]\n",
    "not_drug_gang_target = violence.loc[~violence['target_name'].str.contains('Drug')]"
   ]
  },
  {
   "cell_type": "code",
   "execution_count": 7,
   "id": "7ab5d9cd",
   "metadata": {},
   "outputs": [],
   "source": [
    "other_violence = pd.concat([not_cartel_source, not_cartel_target, not_drug_gang_source, not_drug_gang_target])"
   ]
  },
  {
   "cell_type": "code",
   "execution_count": 8,
   "id": "9975fdd9",
   "metadata": {},
   "outputs": [
    {
     "data": {
      "text/plain": [
       "(69452, 21)"
      ]
     },
     "execution_count": 8,
     "metadata": {},
     "output_type": "execute_result"
    }
   ],
   "source": [
    "other_violence.shape"
   ]
  },
  {
   "cell_type": "code",
   "execution_count": 9,
   "id": "f58a0d09",
   "metadata": {},
   "outputs": [],
   "source": [
    "other_violence['event_year'] = other_violence['event_date'].dt.year"
   ]
  },
  {
   "cell_type": "code",
   "execution_count": 10,
   "id": "de779782",
   "metadata": {},
   "outputs": [
    {
     "data": {
      "text/html": [
       "<div>\n",
       "<style scoped>\n",
       "    .dataframe tbody tr th:only-of-type {\n",
       "        vertical-align: middle;\n",
       "    }\n",
       "\n",
       "    .dataframe tbody tr th {\n",
       "        vertical-align: top;\n",
       "    }\n",
       "\n",
       "    .dataframe thead th {\n",
       "        text-align: right;\n",
       "    }\n",
       "</style>\n",
       "<table border=\"1\" class=\"dataframe\">\n",
       "  <thead>\n",
       "    <tr style=\"text-align: right;\">\n",
       "      <th></th>\n",
       "      <th>Unnamed: 0</th>\n",
       "      <th>event_id</th>\n",
       "      <th>event_date</th>\n",
       "      <th>source_name</th>\n",
       "      <th>source_sectors</th>\n",
       "      <th>source_country</th>\n",
       "      <th>event_text</th>\n",
       "      <th>cameo_code</th>\n",
       "      <th>intensity</th>\n",
       "      <th>target_name</th>\n",
       "      <th>...</th>\n",
       "      <th>story_id</th>\n",
       "      <th>sentence_number</th>\n",
       "      <th>publisher</th>\n",
       "      <th>city</th>\n",
       "      <th>district</th>\n",
       "      <th>state</th>\n",
       "      <th>country</th>\n",
       "      <th>lat</th>\n",
       "      <th>lon</th>\n",
       "      <th>event_year</th>\n",
       "    </tr>\n",
       "  </thead>\n",
       "  <tbody>\n",
       "    <tr>\n",
       "      <th>325</th>\n",
       "      <td>325</td>\n",
       "      <td>927232</td>\n",
       "      <td>1995-01-06</td>\n",
       "      <td>Citizen (Mexico)</td>\n",
       "      <td>Social,General Population / Civilian / Social</td>\n",
       "      <td>Mexico</td>\n",
       "      <td>Occupy territory</td>\n",
       "      <td>192</td>\n",
       "      <td>-9.5</td>\n",
       "      <td>Mexico</td>\n",
       "      <td>...</td>\n",
       "      <td>28238835</td>\n",
       "      <td>1</td>\n",
       "      <td>The Associated Press Political Service</td>\n",
       "      <td>Amatenango del Valle</td>\n",
       "      <td>Amatenango del Valle</td>\n",
       "      <td>Estado de Chiapas</td>\n",
       "      <td>Mexico</td>\n",
       "      <td>16.5167</td>\n",
       "      <td>-92.450</td>\n",
       "      <td>1995</td>\n",
       "    </tr>\n",
       "    <tr>\n",
       "      <th>326</th>\n",
       "      <td>326</td>\n",
       "      <td>927233</td>\n",
       "      <td>1995-01-06</td>\n",
       "      <td>Citizen (Mexico)</td>\n",
       "      <td>Social,General Population / Civilian / Social</td>\n",
       "      <td>Mexico</td>\n",
       "      <td>Occupy territory</td>\n",
       "      <td>192</td>\n",
       "      <td>-9.5</td>\n",
       "      <td>Government (Mexico)</td>\n",
       "      <td>...</td>\n",
       "      <td>28238835</td>\n",
       "      <td>4</td>\n",
       "      <td>The Associated Press Political Service</td>\n",
       "      <td>Amatenango del Valle</td>\n",
       "      <td>Amatenango del Valle</td>\n",
       "      <td>Estado de Chiapas</td>\n",
       "      <td>Mexico</td>\n",
       "      <td>16.5167</td>\n",
       "      <td>-92.450</td>\n",
       "      <td>1995</td>\n",
       "    </tr>\n",
       "    <tr>\n",
       "      <th>336</th>\n",
       "      <td>336</td>\n",
       "      <td>927250</td>\n",
       "      <td>1995-01-06</td>\n",
       "      <td>Armed Band (Brazil)</td>\n",
       "      <td>Unidentified Forces</td>\n",
       "      <td>Brazil</td>\n",
       "      <td>fight with small arms and light weapons</td>\n",
       "      <td>193</td>\n",
       "      <td>-10.0</td>\n",
       "      <td>Criminal (Brazil)</td>\n",
       "      <td>...</td>\n",
       "      <td>28241498</td>\n",
       "      <td>5</td>\n",
       "      <td>Reuters News</td>\n",
       "      <td>El Rio</td>\n",
       "      <td>NaN</td>\n",
       "      <td>Estado de San Luis Potosi</td>\n",
       "      <td>Mexico</td>\n",
       "      <td>22.0020</td>\n",
       "      <td>-100.515</td>\n",
       "      <td>1995</td>\n",
       "    </tr>\n",
       "    <tr>\n",
       "      <th>1351</th>\n",
       "      <td>1351</td>\n",
       "      <td>928757</td>\n",
       "      <td>1995-01-19</td>\n",
       "      <td>Party Member (Mexico)</td>\n",
       "      <td>Parties</td>\n",
       "      <td>Mexico</td>\n",
       "      <td>Use conventional military force</td>\n",
       "      <td>190</td>\n",
       "      <td>-10.0</td>\n",
       "      <td>Citizen (Mexico)</td>\n",
       "      <td>...</td>\n",
       "      <td>28240215</td>\n",
       "      <td>1</td>\n",
       "      <td>The Associated Press Political Service</td>\n",
       "      <td>Villahermosa</td>\n",
       "      <td>NaN</td>\n",
       "      <td>Distrito Federal</td>\n",
       "      <td>Mexico</td>\n",
       "      <td>19.4833</td>\n",
       "      <td>-99.100</td>\n",
       "      <td>1995</td>\n",
       "    </tr>\n",
       "    <tr>\n",
       "      <th>1436</th>\n",
       "      <td>1436</td>\n",
       "      <td>928894</td>\n",
       "      <td>1995-01-20</td>\n",
       "      <td>Institutional Revolutionary Party</td>\n",
       "      <td>Parties,(National) Major Party,Ideological,Cen...</td>\n",
       "      <td>Mexico</td>\n",
       "      <td>Use conventional military force</td>\n",
       "      <td>190</td>\n",
       "      <td>-10.0</td>\n",
       "      <td>Opposition Activist (Mexico)</td>\n",
       "      <td>...</td>\n",
       "      <td>28240736</td>\n",
       "      <td>2</td>\n",
       "      <td>The Associated Press Political Service</td>\n",
       "      <td>Villahermosa</td>\n",
       "      <td>NaN</td>\n",
       "      <td>Distrito Federal</td>\n",
       "      <td>Mexico</td>\n",
       "      <td>19.4833</td>\n",
       "      <td>-99.100</td>\n",
       "      <td>1995</td>\n",
       "    </tr>\n",
       "  </tbody>\n",
       "</table>\n",
       "<p>5 rows × 22 columns</p>\n",
       "</div>"
      ],
      "text/plain": [
       "      Unnamed: 0  event_id event_date                        source_name  \\\n",
       "325          325    927232 1995-01-06                   Citizen (Mexico)   \n",
       "326          326    927233 1995-01-06                   Citizen (Mexico)   \n",
       "336          336    927250 1995-01-06                Armed Band (Brazil)   \n",
       "1351        1351    928757 1995-01-19              Party Member (Mexico)   \n",
       "1436        1436    928894 1995-01-20  Institutional Revolutionary Party   \n",
       "\n",
       "                                         source_sectors source_country  \\\n",
       "325       Social,General Population / Civilian / Social         Mexico   \n",
       "326       Social,General Population / Civilian / Social         Mexico   \n",
       "336                                 Unidentified Forces         Brazil   \n",
       "1351                                            Parties         Mexico   \n",
       "1436  Parties,(National) Major Party,Ideological,Cen...         Mexico   \n",
       "\n",
       "                                   event_text  cameo_code  intensity  \\\n",
       "325                          Occupy territory         192       -9.5   \n",
       "326                          Occupy territory         192       -9.5   \n",
       "336   fight with small arms and light weapons         193      -10.0   \n",
       "1351          Use conventional military force         190      -10.0   \n",
       "1436          Use conventional military force         190      -10.0   \n",
       "\n",
       "                       target_name  ...  story_id sentence_number  \\\n",
       "325                         Mexico  ...  28238835               1   \n",
       "326            Government (Mexico)  ...  28238835               4   \n",
       "336              Criminal (Brazil)  ...  28241498               5   \n",
       "1351              Citizen (Mexico)  ...  28240215               1   \n",
       "1436  Opposition Activist (Mexico)  ...  28240736               2   \n",
       "\n",
       "                                   publisher                  city  \\\n",
       "325   The Associated Press Political Service  Amatenango del Valle   \n",
       "326   The Associated Press Political Service  Amatenango del Valle   \n",
       "336                             Reuters News                El Rio   \n",
       "1351  The Associated Press Political Service          Villahermosa   \n",
       "1436  The Associated Press Political Service          Villahermosa   \n",
       "\n",
       "                  district                      state country      lat  \\\n",
       "325   Amatenango del Valle          Estado de Chiapas  Mexico  16.5167   \n",
       "326   Amatenango del Valle          Estado de Chiapas  Mexico  16.5167   \n",
       "336                    NaN  Estado de San Luis Potosi  Mexico  22.0020   \n",
       "1351                   NaN           Distrito Federal  Mexico  19.4833   \n",
       "1436                   NaN           Distrito Federal  Mexico  19.4833   \n",
       "\n",
       "          lon  event_year  \n",
       "325   -92.450        1995  \n",
       "326   -92.450        1995  \n",
       "336  -100.515        1995  \n",
       "1351  -99.100        1995  \n",
       "1436  -99.100        1995  \n",
       "\n",
       "[5 rows x 22 columns]"
      ]
     },
     "execution_count": 10,
     "metadata": {},
     "output_type": "execute_result"
    }
   ],
   "source": [
    "other_violence.head()"
   ]
  },
  {
   "cell_type": "code",
   "execution_count": 11,
   "id": "1f875b29",
   "metadata": {},
   "outputs": [
    {
     "data": {
      "text/plain": [
       "array(['Occupy territory', 'fight with small arms and light weapons',\n",
       "       'Use conventional military force', 'Use unconventional violence',\n",
       "       'Abduct, hijack, or take hostage', 'Engage in mass killings',\n",
       "       'Physically assault', 'Impose blockade, restrict movement',\n",
       "       'Torture', 'Assassinate', 'fight with artillery and tanks',\n",
       "       'Employ aerial weapons', 'Kill by physical assault',\n",
       "       'Conduct suicide, car, or other non-military bombing',\n",
       "       'Attempt to assassinate', 'Use as human shield'], dtype=object)"
      ]
     },
     "execution_count": 11,
     "metadata": {},
     "output_type": "execute_result"
    }
   ],
   "source": [
    "#explore source sectors for consolidation\n",
    "other_violence[\"event_text\"].unique()"
   ]
  },
  {
   "cell_type": "code",
   "execution_count": 12,
   "id": "072552c8",
   "metadata": {},
   "outputs": [
    {
     "ename": "NameError",
     "evalue": "name 'cartel_mex' is not defined",
     "output_type": "error",
     "traceback": [
      "\u001b[1;31m---------------------------------------------------------------------------\u001b[0m",
      "\u001b[1;31mNameError\u001b[0m                                 Traceback (most recent call last)",
      "\u001b[1;32m<ipython-input-12-f8b0e41828f8>\u001b[0m in \u001b[0;36m<module>\u001b[1;34m\u001b[0m\n\u001b[1;32m----> 1\u001b[1;33m \u001b[0mcartel_mex\u001b[0m\u001b[1;33m.\u001b[0m\u001b[0mto_csv\u001b[0m\u001b[1;33m(\u001b[0m\u001b[1;34m'../data/icews_mex_violence.csv'\u001b[0m\u001b[1;33m)\u001b[0m\u001b[1;33m\u001b[0m\u001b[1;33m\u001b[0m\u001b[0m\n\u001b[0m",
      "\u001b[1;31mNameError\u001b[0m: name 'cartel_mex' is not defined"
     ]
    }
   ],
   "source": [
    "cartel_mex.to_csv('../data/icews_mex_violence.csv')"
   ]
  },
  {
   "cell_type": "code",
   "execution_count": null,
   "id": "a9929d0d",
   "metadata": {},
   "outputs": [],
   "source": []
  }
 ],
 "metadata": {
  "kernelspec": {
   "display_name": "Python 3",
   "language": "python",
   "name": "python3"
  },
  "language_info": {
   "codemirror_mode": {
    "name": "ipython",
    "version": 3
   },
   "file_extension": ".py",
   "mimetype": "text/x-python",
   "name": "python",
   "nbconvert_exporter": "python",
   "pygments_lexer": "ipython3",
   "version": "3.8.8"
  }
 },
 "nbformat": 4,
 "nbformat_minor": 5
}
