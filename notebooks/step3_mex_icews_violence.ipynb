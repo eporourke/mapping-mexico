{
 "cells": [
  {
   "cell_type": "code",
   "execution_count": 1,
   "id": "5914f193",
   "metadata": {},
   "outputs": [],
   "source": [
    "import pandas as pd\n",
    "import numpy as np\n",
    "import glob\n",
    "import datetime"
   ]
  },
  {
   "cell_type": "code",
   "execution_count": 2,
   "id": "5a287810",
   "metadata": {},
   "outputs": [],
   "source": [
    "icews_main = pd.read_csv('../data/icews_main.csv', parse_dates=['event_date'],dtype={\n",
    "       'event_id':'int','intensity':'float','story_id':'int','sentence_number':'int'})"
   ]
  },
  {
   "cell_type": "code",
   "execution_count": 3,
   "id": "6874697e",
   "metadata": {},
   "outputs": [],
   "source": [
    "#extract year to separate column\n",
    "icews_main['event_year'] = icews_main['event_date'].dt.year"
   ]
  },
  {
   "cell_type": "code",
   "execution_count": 4,
   "id": "ffead7a8",
   "metadata": {},
   "outputs": [
    {
     "data": {
      "text/plain": [
       "(195581, 22)"
      ]
     },
     "execution_count": 4,
     "metadata": {},
     "output_type": "execute_result"
    }
   ],
   "source": [
    "#filter for country Mexico\n",
    "mexico_main = icews_main.loc[icews_main[\"country\"].isin(['Mexico'])]\n",
    "mexico_main.shape"
   ]
  },
  {
   "cell_type": "code",
   "execution_count": 5,
   "id": "404500c8",
   "metadata": {},
   "outputs": [
    {
     "data": {
      "text/plain": [
       "(3498, 22)"
      ]
     },
     "execution_count": 5,
     "metadata": {},
     "output_type": "execute_result"
    }
   ],
   "source": [
    "# check to see if 2017 is in the data frame due to cameo code issues\n",
    "#(step 1 to compare with second step once cameo codes are filtered)\n",
    "mex_test = mexico_main.loc[mexico_main[\"event_year\"].isin([2017])]\n",
    "mex_test.shape"
   ]
  },
  {
   "cell_type": "code",
   "execution_count": 6,
   "id": "44278d03",
   "metadata": {},
   "outputs": [
    {
     "data": {
      "text/plain": [
       "(195581, 22)"
      ]
     },
     "execution_count": 6,
     "metadata": {},
     "output_type": "execute_result"
    }
   ],
   "source": [
    "mex_180 = mexico_main.loc[mexico_main[\"cameo_code\"].isin([\n",
    "180,181,182,183,184,185,186,190,191,192,193,194,195,202,1822,1823])]\n",
    "mexico_main.shape"
   ]
  },
  {
   "cell_type": "code",
   "execution_count": 8,
   "id": "d9f1e689",
   "metadata": {},
   "outputs": [
    {
     "data": {
      "text/plain": [
       "array([ 192,  193,  190,  180,  181,  202,  182,  191, 1822,  186,  194,\n",
       "        195, 1823,  183,  185,  184], dtype=int64)"
      ]
     },
     "execution_count": 8,
     "metadata": {},
     "output_type": "execute_result"
    }
   ],
   "source": [
    "#CAMEO codes to show which events are present in the dataframe\n",
    "# DOUBLE CHECK TO MAKE SURE THIS IS RIGHT\n",
    "explore = mex_180['cameo_code'].unique()\n",
    "explore"
   ]
  },
  {
   "cell_type": "code",
   "execution_count": 11,
   "id": "b6a49c43",
   "metadata": {},
   "outputs": [
    {
     "data": {
      "text/plain": [
       "(375, 22)"
      ]
     },
     "execution_count": 11,
     "metadata": {},
     "output_type": "execute_result"
    }
   ],
   "source": [
    "# check to see if 2017 is in the data frame due to cameo code issues\n",
    "mex_test = mex_180.loc[mex_180[\"event_year\"].isin([2017])]\n",
    "mex_test.shape"
   ]
  },
  {
   "cell_type": "code",
   "execution_count": 13,
   "id": "cbc6df83",
   "metadata": {},
   "outputs": [
    {
     "data": {
      "text/plain": [
       "180     7545\n",
       "190     4136\n",
       "193     3036\n",
       "181     1353\n",
       "182      450\n",
       "192      384\n",
       "186      207\n",
       "1823     149\n",
       "1822     148\n",
       "183      142\n",
       "191      136\n",
       "202       49\n",
       "195       19\n",
       "194        4\n",
       "184        3\n",
       "185        2\n",
       "Name: cameo_code, dtype: int64"
      ]
     },
     "execution_count": 13,
     "metadata": {},
     "output_type": "execute_result"
    }
   ],
   "source": [
    "# looking to see that apostrophes have been removed \n",
    "mex_180[\"cameo_code\"].value_counts()"
   ]
  },
  {
   "cell_type": "code",
   "execution_count": 14,
   "id": "4a872a45",
   "metadata": {
    "scrolled": true
   },
   "outputs": [
    {
     "data": {
      "text/plain": [
       "Use unconventional violence                            7545\n",
       "Use conventional military force                        4136\n",
       "fight with small arms and light weapons                3036\n",
       "Abduct, hijack, or take hostage                        1353\n",
       "Physically assault                                      450\n",
       "Occupy territory                                        384\n",
       "Assassinate                                             207\n",
       "Kill by physical assault                                149\n",
       "Torture                                                 148\n",
       "Conduct suicide, car, or other non-military bombing     142\n",
       "Impose blockade, restrict movement                      136\n",
       "Engage in mass killings                                  49\n",
       "Employ aerial weapons                                    19\n",
       "fight with artillery and tanks                            4\n",
       "Use as human shield                                       3\n",
       "Attempt to assassinate                                    2\n",
       "Name: event_text, dtype: int64"
      ]
     },
     "execution_count": 14,
     "metadata": {},
     "output_type": "execute_result"
    }
   ],
   "source": [
    "mex_180[\"event_text\"].value_counts()"
   ]
  },
  {
   "cell_type": "code",
   "execution_count": 15,
   "id": "44ecc075",
   "metadata": {},
   "outputs": [
    {
     "data": {
      "text/plain": [
       "array(['Social,General Population / Civilian / Social',\n",
       "       'Unidentified Forces', 'Parties',\n",
       "       'Parties,(National) Major Party,Ideological,Center Left',\n",
       "       'Dissident,Criminals / Gangs', 'Criminals / Gangs,Dissident',\n",
       "       '(National) Major Party,Parties,Center Left,Ideological',\n",
       "       'Government,Police',\n",
       "       'Dissident,Protestors / Popular Opposition / Mobs',\n",
       "       'Police,Government',\n",
       "       'General Population / Civilian / Social,Social',\n",
       "       'Parties,(National) Major Party,Far Left,Ideological',\n",
       "       'Protestors / Popular Opposition / Mobs,Dissident',\n",
       "       'Global,International Government Organization,Global Defense / Security IGOs',\n",
       "       nan, 'Dissident,Rebel',\n",
       "       'Ideological,Center Left,(National) Major Party,Parties',\n",
       "       'Far Left,Ideological,(National) Major Party,Parties',\n",
       "       'Government,Military', 'Dissident,Elite,Criminals / Gangs',\n",
       "       'Ideological,Center Left,Parties,(National) Major Party',\n",
       "       'Military,Government', 'Ideological,Far Left,Insurgents,Dissident',\n",
       "       '(National) Major Party,Parties,Ideological,Far Left',\n",
       "       'Social,Business', 'Social,Agricultural',\n",
       "       'Parties,Center Left,Ideological,(National) Major Party',\n",
       "       'Parties,Far Left,Ideological,(National) Major Party',\n",
       "       'Rebel,Dissident', 'Communist,Dissident,Insurgents,Ideological',\n",
       "       'Human Rights NGOs,Human Rights IGOs,Nongovernmental Organizations / Activists,Nongovernmental Organization (International)',\n",
       "       'Army,Government,Military',\n",
       "       'Dissident,Communist,Insurgents,Ideological',\n",
       "       'Far Left,Dissident,Ideological,Insurgents',\n",
       "       'Insurgents,Ideological,Dissident,Communist',\n",
       "       'Dissident,Insurgents,Ideological,Far Left',\n",
       "       'Communist,Insurgents,Dissident,Ideological',\n",
       "       'Insurgents,Dissident,Ideological,Far Left',\n",
       "       'Government,Defense / Security Ministry,Executive',\n",
       "       'Ideological,Insurgents,Dissident,Communist',\n",
       "       'Center Left,Parties,Ideological,(National) Major Party',\n",
       "       'Government,Executive,Justice / Law Ministry',\n",
       "       'Dissident,Insurgents,Communist,Ideological',\n",
       "       '(National) Major Party,Parties,Government Major Party (In Government)',\n",
       "       'Ideological,(National) Major Party,Center Left,Parties',\n",
       "       'Ideological,Communist,Dissident,Insurgents',\n",
       "       'Insurgents,Dissident,Ideological,Communist',\n",
       "       'Military,Government,Army',\n",
       "       'Ideological,Dissident,Insurgents,Communist',\n",
       "       'Ideological,(National) Major Party,Far Left,Parties',\n",
       "       'Government,Army,Military',\n",
       "       'Executive,Government,Justice / Law Ministry',\n",
       "       'Ideological,Communist,Insurgents,Dissident',\n",
       "       'Ideological,Dissident,Communist,Insurgents',\n",
       "       'Military,Army,Government', 'Municipal,Local,Government',\n",
       "       'Criminals / Gangs,Dissident,Elite',\n",
       "       'Far Left,Parties,(National) Major Party,Ideological',\n",
       "       'Ideological,Far Left,(National) Major Party,Parties',\n",
       "       'Human Rights NGOs,Nongovernmental Organizations / Activists,Nongovernmental Organization (International),Human Rights IGOs',\n",
       "       'Government,Military,Army', 'Government',\n",
       "       'National / Border Divisions,Police,Government',\n",
       "       'Police,Government,National / Border Divisions',\n",
       "       'Upper House,Government,Legislative / Parliamentary',\n",
       "       'Religious Majority,National Religious,International Religious,Catholic,Social',\n",
       "       '(National) Major Party,Parties,Ideological,Center Left',\n",
       "       'Far Left,Insurgents,Dissident,Ideological',\n",
       "       'Justice / Law Ministry,Executive,Government',\n",
       "       'Social,Refugees / Displaced',\n",
       "       'Government,Local,(National) Major Party,Ideological,Parties,Center Left,Provincial',\n",
       "       'Government,Justice / Law Ministry,Executive',\n",
       "       'Ideological,Center Right,Parties,(National) Major Party',\n",
       "       'Ideological,Insurgents,Dissident,Far Left',\n",
       "       'Provincial,Local,Government',\n",
       "       'Center Left,(National) Major Party,Parties,Ideological',\n",
       "       'Far Left,Ideological,Dissident,Insurgents',\n",
       "       'Far Left,Ideological,Insurgents,Dissident',\n",
       "       'National / Border Divisions,Government,Police',\n",
       "       'Local,Provincial,Government',\n",
       "       'Ideological,Dissident,Insurgents,Far Left',\n",
       "       '(National) Major Party,Parties,Government,Ideological,Provincial,Local,Center Left',\n",
       "       'Education,Social', 'Local,Government,Provincial',\n",
       "       'Business,Social', 'Government,Legislative / Parliamentary',\n",
       "       'Parties,(National) Major Party,Ideological,Far Left',\n",
       "       'Parties,Ideological,Center Left,(National) Major Party',\n",
       "       'Labor,Social', 'Air Force,Military,Government',\n",
       "       'Government,Local,Provincial',\n",
       "       'Nongovernmental Organizations / Activists,Human Rights IGOs,Nongovernmental Organization (International),Human Rights NGOs',\n",
       "       'Social,Education', 'National Religious,Social',\n",
       "       'Government,Municipal,Local',\n",
       "       '(National) Major Party,Government,Parties,Provincial,Local,Ideological,Center Left',\n",
       "       'Legislative / Parliamentary,Government,Upper House',\n",
       "       'Government,Police,National / Border Divisions',\n",
       "       'Far Left,Insurgents,Ideological,Dissident',\n",
       "       '(National) Major Party,Ideological,Parties,Center Left',\n",
       "       'Social,Parties,Labor',\n",
       "       'Far Left,Ideological,Parties,(National) Major Party',\n",
       "       'Finance / Economy / Commerce / Trade Ministry,Ideological,Government,Center Left,Executive,(National) Major Party,Parties,Justice / Law Ministry',\n",
       "       'Insurgents,Dissident,Communist,Ideological',\n",
       "       'Army,Military,Government',\n",
       "       'Government,National / Border Divisions,Police',\n",
       "       '(National) Major Party,Ideological,Parties,Elite,Far Left',\n",
       "       'Parties,Ideological,(National) Major Party,Center Left',\n",
       "       'Far Left,(National) Major Party,Parties,Ideological',\n",
       "       'Communist,Dissident,Ideological,Insurgents',\n",
       "       'Provincial,Government,Local',\n",
       "       'Legislative / Parliamentary,Government',\n",
       "       'Military,Navy,Government',\n",
       "       '(National) Major Party,Ideological,Center Left,Parties,Provincial,Government,Local',\n",
       "       'Ideological,(National) Major Party,Center Right,Parties',\n",
       "       'Ideological,Center Right,Legislative / Parliamentary,Government,Lower House,Parties,(National) Major Party',\n",
       "       '(National) Major Party,Parties,Ideological,Center Right',\n",
       "       'Center Left,Ideological,Parties,(National) Major Party',\n",
       "       'Dissident,Insurgents,Ideological,Communist',\n",
       "       'Dissident,Insurgents,Far Left,Ideological',\n",
       "       'Parties,(National) Major Party,Center Left,Ideological',\n",
       "       'Ideological,Far Left,Dissident,Insurgents', 'Exiles,Dissident',\n",
       "       'Government,Executive,Environment Ministry', 'Social,Labor',\n",
       "       'Government,Executive,Elections Ministry',\n",
       "       'Dissident,Ideological,Far Left,Insurgents',\n",
       "       '(National) Major Party,Center Left,Ideological,Parties,Elite',\n",
       "       'Ideological,(National) Minor Party,Parties,Far Left',\n",
       "       'Legislative / Parliamentary,(National) Major Party,Center Right,Ideological,Lower House,Government,Parties',\n",
       "       'Executive,Defense / Security Ministry,Government',\n",
       "       'Local,Provincial,Parties,(National) Major Party,Government,Ideological,Center Left',\n",
       "       'Police,National / Border Divisions,Government',\n",
       "       'Far Left,Parties,Ideological,(National) Major Party',\n",
       "       'Navy,Government,Military',\n",
       "       'Dissident,Far Left,Insurgents,Ideological', 'Agricultural,Social',\n",
       "       'Local,Municipal,Government',\n",
       "       'Center Right,Ideological,(National) Major Party,Parties',\n",
       "       'International Dissident,International Criminals / Gangs',\n",
       "       'International Religious,Catholic,Government',\n",
       "       'Social,Medical / Health',\n",
       "       '(National) Major Party,Far Left,Parties,Ideological',\n",
       "       'Human Rights IGOs,Nongovernmental Organization (International),Human Rights NGOs,Nongovernmental Organizations / Activists',\n",
       "       'Regional Diplomatic IGOs,Regional,International Government Organization',\n",
       "       'Global Economic/Financial/Trade IGOs,International Government Organization,Global',\n",
       "       'Human Rights IGOs,Nongovernmental Organization (International),Nongovernmental Organizations / Activists,Human Rights NGOs',\n",
       "       'Dissident',\n",
       "       '(National) Major Party,Ideological,Center Right,Parties',\n",
       "       'International Religious,Social,National Religious,Catholic',\n",
       "       'Social,National Religious',\n",
       "       'State-Owned Heavy Industrial / Chemical,State Owned Enterprises,Government',\n",
       "       'Global,Global Economic/Financial/Trade IGOs,International Government Organization',\n",
       "       'Human Rights NGOs,Human Rights IGOs,Nongovernmental Organization (International),Nongovernmental Organizations / Activists',\n",
       "       '(National) Major Party,Parties,Government,Ideological,Lower House,Center Left,Legislative / Parliamentary',\n",
       "       'Navy,Military,Government',\n",
       "       'Ideological,(National) Major Party,Parties,Center Left',\n",
       "       'Nongovernmental Organization (International),Environment IGOs',\n",
       "       'Executive,Government,Foreign Ministry',\n",
       "       'Center Left,Ideological,(National) Major Party,Parties',\n",
       "       'Municipal,Government,Local',\n",
       "       'Interior / Home Ministry,Executive,Government',\n",
       "       'Parties,(National) Major Party,Government,Provincial,Local,Center Left,Ideological',\n",
       "       'Ideological,(National) Major Party,Parties,Far Left',\n",
       "       'International Criminals / Gangs,International Dissident',\n",
       "       'Justice / Law Ministry,Government,Executive',\n",
       "       'Parties,(National) Major Party,Ideological,Center Right',\n",
       "       'Executive,Justice / Law Ministry,Government',\n",
       "       'International Government Organization,Government,Regional,Police,Regional Diplomatic IGOs',\n",
       "       '(National) Major Party,Parties,Center Right,Ideological',\n",
       "       '(National) Major Party,Finance / Economy / Commerce / Trade Ministry,Parties,Government,Executive,Center Left,Ideological',\n",
       "       'Legal,Social',\n",
       "       'Ideological,Parties,(National) Major Party,Center Left',\n",
       "       'Dissident,Radicals / Extremists / Fundamentalists',\n",
       "       'International Criminals / Gangs,International Dissident,Criminals / Gangs,Dissident',\n",
       "       'Ideological,Far Right,Criminals / Gangs,Dissident,Insurgents,Unidentified Forces',\n",
       "       'Government,Ideological,(National) Major Party,Far Left,Parties,Local,Provincial',\n",
       "       'Government,Finance / Economy / Commerce / Trade Ministry,Executive',\n",
       "       'Dissident,Far Left,Parties,Ideological,Protestors / Popular Opposition / Mobs,(National) Major Party',\n",
       "       'Dissident,Far Left,Ideological,(National) Major Party,Parties,Protestors / Popular Opposition / Mobs',\n",
       "       'Dissident,Ideological,Protestors / Popular Opposition / Mobs,Far Left,(National) Major Party,Parties',\n",
       "       'Regional Diplomatic IGOs,International Government Organization,Regional',\n",
       "       'Parties,Ideological,Dissident,Social,(National) Minor Party,International Religious,Shia,Organized Violent,Far Left,National Religious',\n",
       "       'Dissident,Protestors / Popular Opposition / Mobs,Parties,Ideological,(National) Major Party,Far Left',\n",
       "       'Executive,Government,Intelligence Ministry',\n",
       "       'Parties,(National) Major Party,Dissident,Far Left,Protestors / Popular Opposition / Mobs,Ideological',\n",
       "       'Nongovernmental Organizations / Activists,Nongovernmental Organization (International),Human Rights NGOs,Human Rights IGOs',\n",
       "       'Upper House,Legislative / Parliamentary,Government',\n",
       "       'Nongovernmental Organizations / Activists,Human Rights IGOs,Human Rights NGOs,Nongovernmental Organization (International)',\n",
       "       'Ideological,Dissident,Far Left,Insurgents',\n",
       "       'Government,Provincial,Local',\n",
       "       'Nongovernmental Organizations / Activists,Human Rights NGOs,Nongovernmental Organization (International),Human Rights IGOs',\n",
       "       'Government,Legislative / Parliamentary,Upper House',\n",
       "       'International Government Organization,Regional,Government,Regional Diplomatic IGOs,Police',\n",
       "       'Local,Center Left,Ideological,Government,Parties,Municipal,(National) Major Party',\n",
       "       'International Religious,International Dissident,Sunni,International Insurgents,International Radicals / Extremists / Fundamentalists',\n",
       "       'International Insurgents,International Radicals / Extremists / Fundamentalists,Sunni,International Dissident,International Religious',\n",
       "       'Government,Local,Provincial,Parties,(National) Major Party,Far Left,Ideological',\n",
       "       'Media,News,Social', 'Government,Executive,Foreign Ministry',\n",
       "       'Parties,(National) Minor Party',\n",
       "       'Parties,(National) Major Party,Dissident,Protestors / Popular Opposition / Mobs,Ideological,Far Left',\n",
       "       'International Government Organization,Regional,Regional Diplomatic IGOs,Government,Military',\n",
       "       'Local,Provincial,Government,Ideological,Center Left,Parties,(National) Major Party',\n",
       "       'National Ethnic Minority,Organized Violent,Dissident,Parties,National Ethnic,Provincial Party,Social',\n",
       "       'Intelligence Ministry,Executive,Government',\n",
       "       'Government,Military,Navy',\n",
       "       'Social,National Religious,Christian,International Religious',\n",
       "       'Executive,Finance / Economy / Commerce / Trade Ministry,Government',\n",
       "       'Center Left,Parties,(National) Major Party,Ideological',\n",
       "       'Social,National Ethnic,Maya,International Ethnic',\n",
       "       'International Government Organization,Global Defense / Security IGOs,Global',\n",
       "       'Communist,Ideological,Insurgents,Dissident',\n",
       "       'Multinational Corporation,Social,Business,Transportation Business',\n",
       "       'Government,State Owned Enterprises,State-Owned Heavy Industrial / Chemical',\n",
       "       'Dissident,Far Left,Ideological,Insurgents',\n",
       "       '(National) Minor Party,Far Left,Ideological,Parties',\n",
       "       'Local,Government,Municipal',\n",
       "       '(National) Major Party,Parties,Local,Ideological,Provincial,Government,Center Left',\n",
       "       'Human Rights IGOs,Human Rights NGOs,Nongovernmental Organization (International),Nongovernmental Organizations / Activists',\n",
       "       'Interior / Home Ministry,Government,Executive',\n",
       "       'Far Left,Dissident,Insurgents,Ideological',\n",
       "       'Justice / Law Ministry,Executive,Government,Drugs Ministry',\n",
       "       'Executive,Government,Cabinet,Elite,Ideological,Parties,(National) Major Party,Foreign Ministry,Center Left',\n",
       "       'Ideological,Center Right,(National) Major Party,Parties',\n",
       "       'Center Right,Parties,Ideological,(National) Major Party',\n",
       "       'Marines,Military,Government',\n",
       "       'Provincial,Local,(National) Major Party,Parties,Government,Ideological,Center Left',\n",
       "       '(National) Major Party,Parties,Far Left,Ideological',\n",
       "       'Executive,Government,Interior / Home Ministry',\n",
       "       'Military,Government,Navy',\n",
       "       'Government,Executive,Intelligence Ministry',\n",
       "       'Social,National Ethnic,South American Indigenous,International Ethnic,National Ethnic Minority',\n",
       "       'Defense / Security Ministry,Executive,Police,Government,Interior / Home Ministry',\n",
       "       'Government,Navy,Military', 'Military,Marines,Government',\n",
       "       'Military,Navy Special Forces,Government,Navy',\n",
       "       'Marines,Government,Military',\n",
       "       'Justice / Law Ministry,Government,Cabinet,Executive',\n",
       "       'State Owned Enterprises,State-Owned Utilities,Government',\n",
       "       'Government,Military,Marines',\n",
       "       'Far Left,Parties,(National) Minor Party,Ideological',\n",
       "       'Cabinet,Executive,Government,Parties,Defense / Security Ministry,Center Left,Ideological,(National) Major Party',\n",
       "       'International Ethnic,National Ethnic,Social,National Ethnic Minority,South American Indigenous',\n",
       "       'Nongovernmental Organization (International),Human Rights IGOs,Human Rights NGOs,Nongovernmental Organizations / Activists',\n",
       "       'Government,Executive,Defense / Security Ministry',\n",
       "       'Government,Local,Municipal', 'Government,Marines,Military',\n",
       "       'Police,Government,Provincial Divisions',\n",
       "       'Military,Government,Marines',\n",
       "       'Defense / Security Ministry,Executive,Government',\n",
       "       'Executive,Interior / Home Ministry,Government',\n",
       "       'Government,Interior / Home Ministry,Executive',\n",
       "       'Legislative / Parliamentary,Upper House,Government',\n",
       "       'Social,International Religious,Catholic,National Religious',\n",
       "       'Government,Provincial,Parties,(National) Major Party,Local,Ideological,Center Right',\n",
       "       'Military,Government,Military Intelligence',\n",
       "       'Provincial,Local,(National) Major Party,Parties,Ideological,Center Left,Government',\n",
       "       '(National) Minor Party,Parties',\n",
       "       'Provincial,Local,Government,Center Right,Parties,(National) Major Party,Ideological',\n",
       "       'Nongovernmental Organization (International),General Population / Civilian / Social,Social',\n",
       "       'Dissident,Insurgents,Ideological,Far Right',\n",
       "       'Transportation Business,Multinational Corporation,Social,Business',\n",
       "       'Parties,Ideological,(National) Major Party,Center Right',\n",
       "       'Military Intelligence,Military,Government',\n",
       "       'Foreign Ministry,Executive,Government',\n",
       "       'Social,Multinational Corporation,Business,Consumer Goods Business',\n",
       "       'Dissident,Ideological,Insurgents,Far Left',\n",
       "       'Executive,Foreign Ministry,Government',\n",
       "       'Muslim,(National) Major Party,International Religious,Parties,Dissident,Nongovernmental Organization (International)',\n",
       "       'Protestors / Popular Opposition / Mobs,Ideological,Dissident,(National) Major Party,Parties,Far Left',\n",
       "       'Protestors / Popular Opposition / Mobs,(National) Major Party,Parties,Dissident,Ideological,Far Left',\n",
       "       'Government,Executive Office,Executive',\n",
       "       'Government,Executive,Executive Office',\n",
       "       'Executive Office,Government,Executive',\n",
       "       'Social,Business,Consumer Goods Business,Multinational Corporation',\n",
       "       '(National) Major Party,Parties,Government,Lower House,Legislative / Parliamentary,Ideological,Far Left',\n",
       "       'Protestors / Popular Opposition / Mobs,(National) Major Party,Parties,Far Left,Ideological,Dissident',\n",
       "       'Protestors / Popular Opposition / Mobs,Ideological,Dissident,Parties,Far Left,(National) Major Party'],\n",
       "      dtype=object)"
      ]
     },
     "execution_count": 15,
     "metadata": {},
     "output_type": "execute_result"
    }
   ],
   "source": [
    "#explore source sectors for consolidation\n",
    "mex_180[\"source_sectors\"].unique()"
   ]
  },
  {
   "cell_type": "code",
   "execution_count": null,
   "id": "4af0fa29",
   "metadata": {},
   "outputs": [],
   "source": [
    "# COMBINE AND CLEAN SOURCE SECTORS"
   ]
  },
  {
   "cell_type": "code",
   "execution_count": null,
   "id": "5584c8b6",
   "metadata": {},
   "outputs": [],
   "source": [
    "#mex_180.to_csv('../data/icews_mexico_180.csv')"
   ]
  },
  {
   "cell_type": "code",
   "execution_count": null,
   "id": "60e26975",
   "metadata": {},
   "outputs": [],
   "source": [
    "# what to do with events without a longitude latitude"
   ]
  },
  {
   "cell_type": "code",
   "execution_count": null,
   "id": "f55d7864",
   "metadata": {},
   "outputs": [],
   "source": [
    "# Mex = ['Mexico']\n",
    "# source_country = mex_violence[~mex_violence.source_country.isin(Mex)]\n",
    "# source_country.shape"
   ]
  },
  {
   "cell_type": "code",
   "execution_count": null,
   "id": "d1d190a9",
   "metadata": {},
   "outputs": [],
   "source": [
    "# source_country.tail(10)"
   ]
  },
  {
   "cell_type": "code",
   "execution_count": null,
   "id": "f895b6da",
   "metadata": {},
   "outputs": [],
   "source": [
    "# # see unique source countries in the df\n",
    "# source_country[\"source_country\"].unique()"
   ]
  },
  {
   "cell_type": "code",
   "execution_count": null,
   "id": "eb27353d",
   "metadata": {},
   "outputs": [],
   "source": [
    "# # filter so that the only source country is mexico\n",
    "# mexico = mex_violence[mex_violence.source_country == 'Mexico']\n",
    "# mexico.shape"
   ]
  },
  {
   "cell_type": "code",
   "execution_count": null,
   "id": "89b1d05f",
   "metadata": {},
   "outputs": [],
   "source": [
    "# #fix 2017 cameo codes to remove apostrophes\n",
    "# cameo = {\n",
    "#     '180':180,\n",
    "#     '181':181,\n",
    "#     '182':182,\n",
    "#     '183':183,\n",
    "#     '184':184,\n",
    "#     '185':185,\n",
    "#     '186':186,\n",
    "#     '190':190,\n",
    "#     '191':191,\n",
    "#     '192':192,\n",
    "#     '193':193,\n",
    "#     '194':194,\n",
    "#     '195':195,\n",
    "#     '202':202,\n",
    "#     '1822':1822,\n",
    "#     '128':128,\n",
    "#     '1823':1823}\n",
    "# mexico_main.cameo_code = mexico_main.cameo_code.replace(cameo)"
   ]
  }
 ],
 "metadata": {
  "kernelspec": {
   "display_name": "Python 3",
   "language": "python",
   "name": "python3"
  },
  "language_info": {
   "codemirror_mode": {
    "name": "ipython",
    "version": 3
   },
   "file_extension": ".py",
   "mimetype": "text/x-python",
   "name": "python",
   "nbconvert_exporter": "python",
   "pygments_lexer": "ipython3",
   "version": "3.8.8"
  }
 },
 "nbformat": 4,
 "nbformat_minor": 5
}
