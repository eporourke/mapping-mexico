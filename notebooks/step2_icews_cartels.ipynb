{
 "cells": [
  {
   "cell_type": "code",
   "execution_count": 1,
   "id": "1f8f5cb3",
   "metadata": {},
   "outputs": [],
   "source": [
    "import pandas as pd\n",
    "import numpy as np\n",
    "import datetime\n",
    "#import geopandas as gp"
   ]
  },
  {
   "cell_type": "code",
   "execution_count": 5,
   "id": "afbaa17c",
   "metadata": {},
   "outputs": [],
   "source": [
    "#using full icews data set to screen for cartel events and make sure I'm not filtering anything out unwittingly\n",
    "cartel_df = pd.read_csv('../data/icews_main.csv')"
   ]
  },
  {
   "cell_type": "code",
   "execution_count": 6,
   "id": "039b7271",
   "metadata": {},
   "outputs": [],
   "source": [
    "#standardize cartel events\n",
    "cartels = {\n",
    "    \"Armed Gang (Sinaloa Cartel)\": 'Sinaloa Cartel',\n",
    "    \"Armed Gang (Juárez Cartel)\":'Juárez Cartel',\n",
    "    \"Organized Crime (Gulf Cartel)\":'Gulf Cartel',\n",
    "    \"Armed Gang (Gulf Cartel)\":'Gulf Cartel',\n",
    "    \"Drug Gang (Los Zetas Cartel)\":'Los Zetas Cartel',\n",
    "    \"Hitman (Gulf Cartel)\":'Gulf Cartel',\n",
    "    \"Hitman (Los Zetas Cartel)\":'Los Zetas Cartel',\n",
    "    \"Criminal (Los Zetas Cartel)\":'Los Zetas Cartel',\n",
    "    \"Drug Gang (Gulf Cartel)\":'Gulf Cartel',\n",
    "    \"Armed Services Deserter (Los Zetas Cartel)\":'Los Zetas Cartel',\n",
    "    \"Armed Gang (Knights Templar Cartel)\":'Knights Templar Cartel'\n",
    "}\n",
    "cartel_df = cartel_df.replace(cartels)"
   ]
  },
  {
   "cell_type": "code",
   "execution_count": 7,
   "id": "73f8d2f9",
   "metadata": {},
   "outputs": [],
   "source": [
    "cartel_source = cartel_df.loc[cartel_df['source_name'].str.contains('cartel')]\n",
    "cartel_target = cartel_df.loc[cartel_df['target_name'].str.contains('cartel')]"
   ]
  },
  {
   "cell_type": "code",
   "execution_count": null,
   "id": "4833e93b",
   "metadata": {},
   "outputs": [],
   "source": []
  }
 ],
 "metadata": {
  "kernelspec": {
   "display_name": "Python 3",
   "language": "python",
   "name": "python3"
  },
  "language_info": {
   "codemirror_mode": {
    "name": "ipython",
    "version": 3
   },
   "file_extension": ".py",
   "mimetype": "text/x-python",
   "name": "python",
   "nbconvert_exporter": "python",
   "pygments_lexer": "ipython3",
   "version": "3.8.8"
  }
 },
 "nbformat": 4,
 "nbformat_minor": 5
}
