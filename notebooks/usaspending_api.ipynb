{
 "cells": [
  {
   "cell_type": "code",
   "execution_count": 1,
   "id": "729c6434",
   "metadata": {},
   "outputs": [],
   "source": [
    "import requests\n",
    "import matplotlib.pyplot as plt\n",
    "from IPython.display import Image\n",
    "import folium\n",
    "%matplotlib inline"
   ]
  },
  {
   "cell_type": "code",
   "execution_count": 4,
   "id": "8796804f",
   "metadata": {},
   "outputs": [],
   "source": [
    "endpoint = 'http://api.usaspending.gov/api/v2/references/glossary/?'"
   ]
  },
  {
   "cell_type": "code",
   "execution_count": 5,
   "id": "7bdcf268",
   "metadata": {},
   "outputs": [],
   "source": [
    "response = requests.post(endpoint)"
   ]
  },
  {
   "cell_type": "code",
   "execution_count": 8,
   "id": "64f75844",
   "metadata": {},
   "outputs": [
    {
     "data": {
      "text/plain": [
       "<Response [200]>"
      ]
     },
     "execution_count": 8,
     "metadata": {},
     "output_type": "execute_result"
    }
   ],
   "source": [
    "response"
   ]
  },
  {
   "cell_type": "code",
   "execution_count": 16,
   "id": "514c78ac",
   "metadata": {},
   "outputs": [
    {
     "ename": "ModuleNotFoundError",
     "evalue": "No module named 'endpoint'",
     "output_type": "error",
     "traceback": [
      "\u001b[1;31m---------------------------------------------------------------------------\u001b[0m",
      "\u001b[1;31mModuleNotFoundError\u001b[0m                       Traceback (most recent call last)",
      "\u001b[1;32m<ipython-input-16-fc2ce2adc5d7>\u001b[0m in \u001b[0;36m<module>\u001b[1;34m\u001b[0m\n\u001b[1;32m----> 1\u001b[1;33m from endpoint import (\n\u001b[0m\u001b[0;32m      2\u001b[0m     \u001b[0mget_generated_award_id_model\u001b[0m\u001b[1;33m,\u001b[0m\u001b[1;33m\u001b[0m\u001b[1;33m\u001b[0m\u001b[0m\n\u001b[0;32m      3\u001b[0m     \u001b[0mget_internal_award_id_model\u001b[0m\u001b[1;33m,\u001b[0m\u001b[1;33m\u001b[0m\u001b[1;33m\u001b[0m\u001b[0m\n\u001b[0;32m      4\u001b[0m     \u001b[0mget_internal_or_generated_award_id_model\u001b[0m\u001b[1;33m,\u001b[0m\u001b[1;33m\u001b[0m\u001b[1;33m\u001b[0m\u001b[0m\n\u001b[0;32m      5\u001b[0m )\n",
      "\u001b[1;31mModuleNotFoundError\u001b[0m: No module named 'endpoint'"
     ]
    }
   ],
   "source": [
    "# import requests\n",
    "\n",
    "# url = \"https://events.rainfocus.com/api/search\"\n",
    "\n",
    "# querystring = {\"search.sessiontype\":\"1522435540042001BxTD\"}\n",
    "\n",
    "# payload = \"------WebKitFormBoundary7MA4YWxkTrZu0gW\\r\\nContent-Disposition: form-data; name=\\\"size\\\"\\r\\n\\r\\n50\\r\\n------WebKitFormBoundary7MA4YWxkTrZu0gW\\r\\nContent-Disposition: form-data; name=\\\"type\\\"\\r\\n\\r\\nsession\\r\\n------WebKitFormBoundary7MA4YWxkTrZu0gW\\r\\nContent-Disposition: form-data; name=\\\"from\\\"\\r\\n\\r\\n30\\r\\n------WebKitFormBoundary7MA4YWxkTrZu0gW--\"\n",
    "# headers = {\n",
    "#     'content-type': \"multipart/form-data; boundary=----WebKitFormBoundary7MA4YWxkTrZu0gW\",\n",
    "#     'rfapiprofileid': \"uGiII5rYGOjoHXOZx0ch4r7f1KzFC0zd\",\n",
    "#     'rfwidgetid': \"KKA8rC3VuZo5clh8gX5Aq07XFonUTLyU\",\n",
    "#     'cache-control': \"no-cache\",\n",
    "#     'Postman-Token': \"dadd9f76-6a7f-41ed-8f31-04359976c622\"\n",
    "#     }\n",
    "\n",
    "# response = requests.request(\"POST\", url, data=payload, headers=headers, params=querystring)\n",
    "# #print first 4000 characters of response\n",
    "# print(response.text[:4000])\n",
    "\n"
   ]
  },
  {
   "cell_type": "code",
   "execution_count": null,
   "id": "1766bd64",
   "metadata": {},
   "outputs": [],
   "source": []
  }
 ],
 "metadata": {
  "kernelspec": {
   "display_name": "Python 3",
   "language": "python",
   "name": "python3"
  },
  "language_info": {
   "codemirror_mode": {
    "name": "ipython",
    "version": 3
   },
   "file_extension": ".py",
   "mimetype": "text/x-python",
   "name": "python",
   "nbconvert_exporter": "python",
   "pygments_lexer": "ipython3",
   "version": "3.8.8"
  }
 },
 "nbformat": 4,
 "nbformat_minor": 5
}
